{
  "nbformat": 4,
  "nbformat_minor": 0,
  "metadata": {
    "colab": {
      "name": "Untitled0.ipynb",
      "provenance": [],
      "authorship_tag": "ABX9TyNEWKkgD+A+VgBylXB4B3GE",
      "include_colab_link": true
    },
    "kernelspec": {
      "name": "python3",
      "display_name": "Python 3"
    }
  },
  "cells": [
    {
      "cell_type": "markdown",
      "metadata": {
        "id": "view-in-github",
        "colab_type": "text"
      },
      "source": [
        "<a href=\"https://colab.research.google.com/github/chrisMac93/Breast_Cancer_Tumors_Classification/blob/master/starter.ipynb\" target=\"_parent\"><img src=\"https://colab.research.google.com/assets/colab-badge.svg\" alt=\"Open In Colab\"/></a>"
      ]
    },
    {
      "cell_type": "code",
      "metadata": {
        "id": "R6D_2e-quTck",
        "colab_type": "code",
        "colab": {}
      },
      "source": [
        "import numpy as np\n",
        "import pandas\n",
        "import matplotlib as mpl\n",
        "import matplotlib.pyplot as plt\n",
        "from sklearn import preprocessing\n",
        "from sklearn.preprocessing import MinMaxScaler\n",
        "from sklearn import metrics\n",
        "from sklearn.metrics import confusion_matrix\n",
        "import itertools"
      ],
      "execution_count": 0,
      "outputs": []
    },
    {
      "cell_type": "code",
      "metadata": {
        "id": "9g9DKxHiwTJR",
        "colab_type": "code",
        "colab": {}
      },
      "source": [
        "class dlnet:\n",
        "  def __init__(self, x, y):\n",
        "    self.X = x\n",
        "    self.Y = y \n",
        "    self.Yh = np.zeros((1, self.Y.shape[1]))\n",
        "\n",
        "    self.L = 2\n",
        "    self.dims = [9, 15, 1]\n",
        "\n",
        "    self.param = {}\n",
        "    self.ch = {}\n",
        "    self.grad = {}\n",
        "\n",
        "    self.loss = []\n",
        "    self.lr = 0.003\n",
        "    self.sam = self.Y.shape[1]"
      ],
      "execution_count": 0,
      "outputs": []
    },
    {
      "cell_type": "code",
      "metadata": {
        "id": "BT9QCMLRyU6G",
        "colab_type": "code",
        "colab": {}
      },
      "source": [
        "def nInit(self):\n",
        "  np.random.seed(1)\n",
        "  self.params['W1'] = np.random.randn(self.dims[1], self.dims[0]) / np.sqrt(self.dims[0])\n",
        "  self.param['B1'] = np.zeros((self.dims[1], 1))\n",
        "  self.params['W2'] = np.random.randn(self.dims[2], self.dims[1]) / np.sqrt(self.dims[1])\n",
        "  self.param['B2'] = np.zeros((self.dims[2], 1))\n"
      ],
      "execution_count": 0,
      "outputs": []
    },
    {
      "cell_type": "code",
      "metadata": {
        "id": "4jgVBCXV2Efa",
        "colab_type": "code",
        "colab": {}
      },
      "source": [
        "def Sigmoid(Z):\n",
        "  return 1 / (1+np.exp(-Z))"
      ],
      "execution_count": 0,
      "outputs": []
    },
    {
      "cell_type": "code",
      "metadata": {
        "id": "K6vy0UvhAiGj",
        "colab_type": "code",
        "colab": {}
      },
      "source": [
        "def Relu(Z):\n",
        "  return np.maximum(0, Z)"
      ],
      "execution_count": 0,
      "outputs": []
    },
    {
      "cell_type": "code",
      "metadata": {
        "id": "NQME_Dh_At_0",
        "colab_type": "code",
        "colab": {}
      },
      "source": [
        "def forward(self):\n",
        "  Z1 = self.param['W1'].dot(self.X) + self.param[B1]\n",
        "  A1 = Relu(Z1)\n",
        "  self.ch['Z1'], self.ch['A1'] = Z1, A1\n",
        "\n",
        "  Z2 = self.param['W2'].dot(A1) + self.param[B2]\n",
        "  A2 = Sigmoid(Z2)\n",
        "  self.ch['Z2'], self.ch['A2'] = Z2, A2\n",
        "\n",
        "  self.Yh = A2\n",
        "  loss - self.nloss(A2)\n",
        "  return self.Yh, loss"
      ],
      "execution_count": 0,
      "outputs": []
    },
    {
      "cell_type": "code",
      "metadata": {
        "id": "b7Q3VUtVD5tv",
        "colab_type": "code",
        "colab": {}
      },
      "source": [
        "def nloss(self, Yh):\n",
        "  loss = (1./self.sam) * (-np.dot(self.Y, np.log(Yh).T) - np.dot(1 - self.Y, np.log(1-Yh).T))"
      ],
      "execution_count": 0,
      "outputs": []
    },
    {
      "cell_type": "code",
      "metadata": {
        "id": "afN-Ct8WLoRt",
        "colab_type": "code",
        "colab": {}
      },
      "source": [
        "def dRelu(x):\n",
        "  x[x <= 0] = 0\n",
        "  x[x > 0] = 1\n",
        "  return x"
      ],
      "execution_count": 0,
      "outputs": []
    },
    {
      "cell_type": "code",
      "metadata": {
        "id": "XOXnCsYgL4Km",
        "colab_type": "code",
        "colab": {}
      },
      "source": [
        "def dSigmoid(z):\n",
        "  s = 1/(1+np.exp(-z))\n",
        "  dZ = s * (1 - s)\n",
        "  return dZ"
      ],
      "execution_count": 0,
      "outputs": []
    },
    {
      "cell_type": "code",
      "metadata": {
        "id": "tjEnDnKjMNk8",
        "colab_type": "code",
        "colab": {}
      },
      "source": [
        "def backward(self):\n",
        "  dLoss_Yh = - (np.divide(self.Y, self.Yh) -np.divide(1 - self.Y, 1 - self.Yh))\n",
        "  dLoss_Z2 = dLoss_Yh * dSigmoid(self.ch['Z2'])\n",
        "  dLoss_A1 = np.dot(self.param['W2'].T, dLoss_Z2)\n",
        "  dLoss_W2 = 1./self.ch['A1'].shape[1] * np.dot(dLoss_Z2, self.ch['A1'].T)\n",
        "  dLoss_b2 = 1./self.ch['A1'].shape[1] * np.dot(dLoss_Z2, np.ones([dLoss_Z2.shape[1],1]))\n",
        "\n",
        "  dLoss_Z1 = dLoss_A1 * dRelu(self.ch['Z1'])        \n",
        "  dLoss_A0 = np.dot(self.param[\"W1\"].T,dLoss_Z1)\n",
        "  dLoss_W1 = 1./self.X.shape[1] * np.dot(dLoss_Z1,self.X.T)\n",
        "  dLoss_b1 = 1./self.X.shape[1] * np.dot(dLoss_Z1, np.ones([dLoss_Z1.shape[1],1]))\n",
        "\n",
        "  self.param[\"W1\"] = self.param[\"W1\"] - self.lr * dLoss_W1\n",
        "  self.param[\"b1\"] = self.param[\"b1\"] - self.lr * dLoss_b1\n",
        "  self.param[\"W2\"] = self.param[\"W2\"] - self.lr * dLoss_W2\n",
        "  self.param[\"b2\"] = self.param[\"b2\"] - self.lr * dLoss_b2"
      ],
      "execution_count": 0,
      "outputs": []
    },
    {
      "cell_type": "code",
      "metadata": {
        "id": "b0P_YxaVODoy",
        "colab_type": "code",
        "colab": {}
      },
      "source": [
        ""
      ],
      "execution_count": 0,
      "outputs": []
    }
  ]
}