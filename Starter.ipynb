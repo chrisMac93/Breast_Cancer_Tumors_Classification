{
  "nbformat": 4,
  "nbformat_minor": 0,
  "metadata": {
    "colab": {
      "name": "Starter.ipynb",
      "provenance": [],
      "collapsed_sections": [],
      "mount_file_id": "1pPr0Jig2JKGfqv3c1VEyo9iwVbPrwLu5",
      "authorship_tag": "ABX9TyN8+0s6HbFX6Bn5bCYx44+M",
      "include_colab_link": true
    },
    "kernelspec": {
      "name": "python3",
      "display_name": "Python 3"
    }
  },
  "cells": [
    {
      "cell_type": "markdown",
      "metadata": {
        "id": "view-in-github",
        "colab_type": "text"
      },
      "source": [
        "<a href=\"https://colab.research.google.com/github/chrisMac93/Breast_Cancer_Tumors_Classification/blob/master/Starter.ipynb\" target=\"_parent\"><img src=\"https://colab.research.google.com/assets/colab-badge.svg\" alt=\"Open In Colab\"/></a>"
      ]
    },
    {
      "cell_type": "code",
      "metadata": {
        "id": "R6D_2e-quTck",
        "colab_type": "code",
        "colab": {
          "base_uri": "https://localhost:8080/",
          "height": 51
        },
        "outputId": "3c4316b2-496d-45f4-f101-9c7263296d90"
      },
      "source": [
        "#Import Dependencies\n",
        "import numpy as np\n",
        "import matplotlib.pyplot as plt\n",
        "\n",
        "from sklearn import preprocessing\n",
        "from sklearn.preprocessing import MinMaxScaler\n",
        "from sklearn import metrics\n",
        "from sklearn.metrics import confusion_matrix\n",
        "\n",
        "import itertools\n",
        "\n",
        "import pandas as pd\n",
        "\n",
        "from pydrive.auth import GoogleAuth\n",
        "from pydrive.drive import GoogleDrive\n",
        "from google.colab import auth\n",
        "from oauth2client.client import GoogleCredentials\n",
        "\n",
        "np.set_printoptions(threshold=np.inf)\n",
        "\n",
        "%matplotlib inline\n",
        "%load_ext autoreload\n",
        "%autoreload 2"
      ],
      "execution_count": 113,
      "outputs": [
        {
          "output_type": "stream",
          "text": [
            "The autoreload extension is already loaded. To reload it, use:\n",
            "  %reload_ext autoreload\n"
          ],
          "name": "stdout"
        }
      ]
    },
    {
      "cell_type": "code",
      "metadata": {
        "id": "BYA0uRL22Ykt",
        "colab_type": "code",
        "colab": {}
      },
      "source": [
        "def plotCf(a,b,t):\n",
        "    cf =confusion_matrix(a,b)\n",
        "    plt.imshow(cf,cmap=plt.cm.Blues,interpolation='nearest')\n",
        "    plt.colorbar()\n",
        "    plt.title(t)\n",
        "    plt.xlabel('Predicted')\n",
        "    plt.ylabel('Actual')\n",
        "    tick_marks = np.arange(len(set(a))) # length of classes\n",
        "    class_labels = ['0','1']\n",
        "    plt.xticks(tick_marks,class_labels)\n",
        "    plt.yticks(tick_marks,class_labels)\n",
        "    thresh = cf.max() / 2.\n",
        "    \n",
        "    for i,j in itertools.product(range(cf.shape[0]),range(cf.shape[1])):\n",
        "        plt.text(j,i,format(cf[i,j],'d'),horizontalalignment='center',color='white' if cf[i,j] >thresh else 'black')\n",
        "    plt.show();"
      ],
      "execution_count": 0,
      "outputs": []
    },
    {
      "cell_type": "code",
      "metadata": {
        "id": "4jgVBCXV2Efa",
        "colab_type": "code",
        "colab": {}
      },
      "source": [
        "def Sigmoid(Z):\n",
        "  return 1 / (1+np.exp(-Z))\n",
        "\n",
        "def Relu(Z):\n",
        "  return np.maximum(0, Z)\n",
        "\n",
        "def Relu2(dZ, Z):\n",
        "  dZ[Z <= 0] = 0\n",
        "  return dZ\n",
        "\n",
        "def dRelu(x):\n",
        "  x[x <= 0] = 0\n",
        "  x[x > 0] = 1\n",
        "  return x\n",
        "\n",
        "def dSigmoid(z):\n",
        "  s = 1/(1+np.exp(-z))\n",
        "  dZ = s * (1 - s)\n",
        "  return dZ"
      ],
      "execution_count": 0,
      "outputs": []
    },
    {
      "cell_type": "code",
      "metadata": {
        "id": "9g9DKxHiwTJR",
        "colab_type": "code",
        "colab": {}
      },
      "source": [
        "class dlnet:\n",
        "  def __init__(self, x, y):\n",
        "    self.debug = 0\n",
        "    self.X = x\n",
        "    self.Y = y \n",
        "    self.Yh = np.zeros((1, self.Y.shape[1]))\n",
        "\n",
        "    self.L = 2\n",
        "    self.dims = [9, 15, 1]\n",
        "\n",
        "    self.param = {}\n",
        "    self.ch = {}\n",
        "    self.grad = {}\n",
        "\n",
        "    self.loss = []\n",
        "    self.lr = 0.003\n",
        "    self.sam = self.Y.shape[1]\n",
        "    self.threshold = 0.5\n",
        "\n",
        "  def nInit(self):\n",
        "    np.random.seed(1)\n",
        "    self.param['W1'] = np.random.randn(self.dims[1], self.dims[0]) / np.sqrt(self.dims[0])\n",
        "    self.param['b1'] = np.zeros((self.dims[1], 1))\n",
        "    self.param['W2'] = np.random.randn(self.dims[2], self.dims[1]) / np.sqrt(self.dims[1])\n",
        "    self.param['b2'] = np.zeros((self.dims[2], 1))\n",
        "\n",
        "  def forward(self):\n",
        "    Z1 = self.param['W1'].dot(self.X) + self.param['b1']\n",
        "    A1 = Relu(Z1)\n",
        "    self.ch['Z1'], self.ch['A1'] = Z1, A1\n",
        "\n",
        "    Z2 = self.param['W2'].dot(A1) + self.param['b2']\n",
        "    A2 = Sigmoid(Z2)\n",
        "    self.ch['Z2'], self.ch['A2'] = Z2, A2\n",
        "\n",
        "    self.Yh = A2\n",
        "    loss = self.nloss(A2)\n",
        "    return self.Yh, loss\n",
        "\n",
        "  def nloss(self, Yh):\n",
        "    loss = (1./self.sam) * (-np.dot(self.Y, np.log(Yh).T) - np.dot(1 - self.Y, np.log(1-Yh).T))\n",
        "    return loss\n",
        "  def backward(self):\n",
        "    dLoss_Yh = - (np.divide(self.Y, self.Yh) - np.divide(1 - self.Y, 1 - self.Yh))\n",
        "    dLoss_Z2 = dLoss_Yh * dSigmoid(self.ch['Z2'])\n",
        "    dLoss_A1 = np.dot(self.param['W2'].T, dLoss_Z2)\n",
        "    dLoss_W2 = 1./self.ch['A1'].shape[1] * np.dot(dLoss_Z2, self.ch['A1'].T)\n",
        "    dLoss_b2 = 1./self.ch['A1'].shape[1] * np.dot(dLoss_Z2, np.ones([dLoss_Z2.shape[1],1]))\n",
        "\n",
        "    dLoss_Z1 = dLoss_A1 * dRelu(self.ch['Z1'])        \n",
        "    dLoss_A0 = np.dot(self.param[\"W1\"].T,dLoss_Z1)\n",
        "    dLoss_W1 = 1./self.X.shape[1] * np.dot(dLoss_Z1,self.X.T)\n",
        "    dLoss_b1 = 1./self.X.shape[1] * np.dot(dLoss_Z1, np.ones([dLoss_Z1.shape[1],1]))\n",
        "\n",
        "    self.param[\"W1\"] = self.param[\"W1\"] - self.lr * dLoss_W1\n",
        "    self.param[\"b1\"] = self.param[\"b1\"] - self.lr * dLoss_b1\n",
        "    self.param[\"W2\"] = self.param[\"W2\"] - self.lr * dLoss_W2\n",
        "    self.param[\"b2\"] = self.param[\"b2\"] - self.lr * dLoss_b2\n",
        "\n",
        "    return\n",
        "\n",
        "  def pred(self, x, y):\n",
        "    self.X = x\n",
        "    self.Y = y\n",
        "    comp = np.zeros((1, x.shape[1]))\n",
        "    pred, loss = self.forward()\n",
        "\n",
        "    for i in range(0, pred.shape[1]):\n",
        "      if pred[0,i] > self.threshold: comp[0,i] = 1\n",
        "      else: comp[0,i] = 0\n",
        "\n",
        "    print(\"Acc: \" + str(np.sum((comp == y) / x.shape[1])))\n",
        "\n",
        "    return comp\n",
        "\n",
        "  def gd(self, X, Y, iter = 3000):\n",
        "    np.random.seed()\n",
        "\n",
        "    self.nInit()\n",
        "\n",
        "    for i in range(0, iter):\n",
        "      Yh, loss = self.forward()\n",
        "      self.backward()\n",
        "\n",
        "      if i % 500 == 0:\n",
        "        print(\"Cost after iteration %i: %f\" %(i, loss))\n",
        "        self.loss.append(loss)\n",
        "\n",
        "    plt.plot(np.squeeze(self.loss))\n",
        "    plt.ylabel('Loss')\n",
        "    plt.xlabel('Iter')\n",
        "    plt.title(\"Lr =\" + str(self.lr))\n",
        "    plt.show()\n",
        "\n",
        "    return"
      ],
      "execution_count": 0,
      "outputs": []
    },
    {
      "cell_type": "code",
      "metadata": {
        "id": "4W4gA9C5V4yF",
        "colab_type": "code",
        "colab": {}
      },
      "source": [
        "auth.authenticate_user()\n",
        "gauth = GoogleAuth()\n",
        "gauth.credentials = GoogleCredentials.get_application_default()\n",
        "drive = GoogleDrive(gauth)"
      ],
      "execution_count": 0,
      "outputs": []
    },
    {
      "cell_type": "code",
      "metadata": {
        "id": "ZUKTlIsPVQPV",
        "colab_type": "code",
        "colab": {}
      },
      "source": [
        "downloaded = drive.CreateFile({'id':\"1hkeFfE0ij7z5QZdVau2iBfCfiper_yYx\"})\n",
        "downloaded.GetContentFile('breast-cancer-wisconsin.csv')"
      ],
      "execution_count": 0,
      "outputs": []
    },
    {
      "cell_type": "code",
      "metadata": {
        "id": "u_GvrbNifclq",
        "colab_type": "code",
        "colab": {}
      },
      "source": [
        "df = pd.read_csv('breast-cancer-wisconsin.csv', header = None)\n",
        "df = df[~df[6].isin(['?'])]\n",
        "df = df.astype(float)\n",
        "df.iloc[:,10].replace(2, 0, inplace=True)\n",
        "df.iloc[:,10].replace(4, 1, inplace=True)\n",
        "\n",
        "df.head(3)\n",
        "scaled_df = df\n",
        "names = df.columns[0:10]\n",
        "scaler = MinMaxScaler()\n",
        "scaled_df = scaler.fit_transform(df.iloc[:,0:10])\n",
        "scaled_df = pd.DataFrame(scaled_df, columns=names)"
      ],
      "execution_count": 0,
      "outputs": []
    },
    {
      "cell_type": "code",
      "metadata": {
        "id": "bI55MyN0lWu6",
        "colab_type": "code",
        "colab": {
          "base_uri": "https://localhost:8080/",
          "height": 514
        },
        "outputId": "498e23a4-8494-4e0f-bb25-8aa140e0ef59"
      },
      "source": [
        "df.head(15)"
      ],
      "execution_count": 120,
      "outputs": [
        {
          "output_type": "execute_result",
          "data": {
            "text/html": [
              "<div>\n",
              "<style scoped>\n",
              "    .dataframe tbody tr th:only-of-type {\n",
              "        vertical-align: middle;\n",
              "    }\n",
              "\n",
              "    .dataframe tbody tr th {\n",
              "        vertical-align: top;\n",
              "    }\n",
              "\n",
              "    .dataframe thead th {\n",
              "        text-align: right;\n",
              "    }\n",
              "</style>\n",
              "<table border=\"1\" class=\"dataframe\">\n",
              "  <thead>\n",
              "    <tr style=\"text-align: right;\">\n",
              "      <th></th>\n",
              "      <th>0</th>\n",
              "      <th>1</th>\n",
              "      <th>2</th>\n",
              "      <th>3</th>\n",
              "      <th>4</th>\n",
              "      <th>5</th>\n",
              "      <th>6</th>\n",
              "      <th>7</th>\n",
              "      <th>8</th>\n",
              "      <th>9</th>\n",
              "      <th>10</th>\n",
              "    </tr>\n",
              "  </thead>\n",
              "  <tbody>\n",
              "    <tr>\n",
              "      <th>0</th>\n",
              "      <td>1000025.0</td>\n",
              "      <td>5.0</td>\n",
              "      <td>1.0</td>\n",
              "      <td>1.0</td>\n",
              "      <td>1.0</td>\n",
              "      <td>2.0</td>\n",
              "      <td>1.0</td>\n",
              "      <td>3.0</td>\n",
              "      <td>1.0</td>\n",
              "      <td>1.0</td>\n",
              "      <td>0.0</td>\n",
              "    </tr>\n",
              "    <tr>\n",
              "      <th>1</th>\n",
              "      <td>1002945.0</td>\n",
              "      <td>5.0</td>\n",
              "      <td>4.0</td>\n",
              "      <td>4.0</td>\n",
              "      <td>5.0</td>\n",
              "      <td>7.0</td>\n",
              "      <td>10.0</td>\n",
              "      <td>3.0</td>\n",
              "      <td>2.0</td>\n",
              "      <td>1.0</td>\n",
              "      <td>0.0</td>\n",
              "    </tr>\n",
              "    <tr>\n",
              "      <th>2</th>\n",
              "      <td>1015425.0</td>\n",
              "      <td>3.0</td>\n",
              "      <td>1.0</td>\n",
              "      <td>1.0</td>\n",
              "      <td>1.0</td>\n",
              "      <td>2.0</td>\n",
              "      <td>2.0</td>\n",
              "      <td>3.0</td>\n",
              "      <td>1.0</td>\n",
              "      <td>1.0</td>\n",
              "      <td>0.0</td>\n",
              "    </tr>\n",
              "    <tr>\n",
              "      <th>3</th>\n",
              "      <td>1016277.0</td>\n",
              "      <td>6.0</td>\n",
              "      <td>8.0</td>\n",
              "      <td>8.0</td>\n",
              "      <td>1.0</td>\n",
              "      <td>3.0</td>\n",
              "      <td>4.0</td>\n",
              "      <td>3.0</td>\n",
              "      <td>7.0</td>\n",
              "      <td>1.0</td>\n",
              "      <td>0.0</td>\n",
              "    </tr>\n",
              "    <tr>\n",
              "      <th>4</th>\n",
              "      <td>1017023.0</td>\n",
              "      <td>4.0</td>\n",
              "      <td>1.0</td>\n",
              "      <td>1.0</td>\n",
              "      <td>3.0</td>\n",
              "      <td>2.0</td>\n",
              "      <td>1.0</td>\n",
              "      <td>3.0</td>\n",
              "      <td>1.0</td>\n",
              "      <td>1.0</td>\n",
              "      <td>0.0</td>\n",
              "    </tr>\n",
              "    <tr>\n",
              "      <th>5</th>\n",
              "      <td>1017122.0</td>\n",
              "      <td>8.0</td>\n",
              "      <td>10.0</td>\n",
              "      <td>10.0</td>\n",
              "      <td>8.0</td>\n",
              "      <td>7.0</td>\n",
              "      <td>10.0</td>\n",
              "      <td>9.0</td>\n",
              "      <td>7.0</td>\n",
              "      <td>1.0</td>\n",
              "      <td>1.0</td>\n",
              "    </tr>\n",
              "    <tr>\n",
              "      <th>6</th>\n",
              "      <td>1018099.0</td>\n",
              "      <td>1.0</td>\n",
              "      <td>1.0</td>\n",
              "      <td>1.0</td>\n",
              "      <td>1.0</td>\n",
              "      <td>2.0</td>\n",
              "      <td>10.0</td>\n",
              "      <td>3.0</td>\n",
              "      <td>1.0</td>\n",
              "      <td>1.0</td>\n",
              "      <td>0.0</td>\n",
              "    </tr>\n",
              "    <tr>\n",
              "      <th>7</th>\n",
              "      <td>1018561.0</td>\n",
              "      <td>2.0</td>\n",
              "      <td>1.0</td>\n",
              "      <td>2.0</td>\n",
              "      <td>1.0</td>\n",
              "      <td>2.0</td>\n",
              "      <td>1.0</td>\n",
              "      <td>3.0</td>\n",
              "      <td>1.0</td>\n",
              "      <td>1.0</td>\n",
              "      <td>0.0</td>\n",
              "    </tr>\n",
              "    <tr>\n",
              "      <th>8</th>\n",
              "      <td>1033078.0</td>\n",
              "      <td>2.0</td>\n",
              "      <td>1.0</td>\n",
              "      <td>1.0</td>\n",
              "      <td>1.0</td>\n",
              "      <td>2.0</td>\n",
              "      <td>1.0</td>\n",
              "      <td>1.0</td>\n",
              "      <td>1.0</td>\n",
              "      <td>5.0</td>\n",
              "      <td>0.0</td>\n",
              "    </tr>\n",
              "    <tr>\n",
              "      <th>9</th>\n",
              "      <td>1033078.0</td>\n",
              "      <td>4.0</td>\n",
              "      <td>2.0</td>\n",
              "      <td>1.0</td>\n",
              "      <td>1.0</td>\n",
              "      <td>2.0</td>\n",
              "      <td>1.0</td>\n",
              "      <td>2.0</td>\n",
              "      <td>1.0</td>\n",
              "      <td>1.0</td>\n",
              "      <td>0.0</td>\n",
              "    </tr>\n",
              "    <tr>\n",
              "      <th>10</th>\n",
              "      <td>1035283.0</td>\n",
              "      <td>1.0</td>\n",
              "      <td>1.0</td>\n",
              "      <td>1.0</td>\n",
              "      <td>1.0</td>\n",
              "      <td>1.0</td>\n",
              "      <td>1.0</td>\n",
              "      <td>3.0</td>\n",
              "      <td>1.0</td>\n",
              "      <td>1.0</td>\n",
              "      <td>0.0</td>\n",
              "    </tr>\n",
              "    <tr>\n",
              "      <th>11</th>\n",
              "      <td>1036172.0</td>\n",
              "      <td>2.0</td>\n",
              "      <td>1.0</td>\n",
              "      <td>1.0</td>\n",
              "      <td>1.0</td>\n",
              "      <td>2.0</td>\n",
              "      <td>1.0</td>\n",
              "      <td>2.0</td>\n",
              "      <td>1.0</td>\n",
              "      <td>1.0</td>\n",
              "      <td>0.0</td>\n",
              "    </tr>\n",
              "    <tr>\n",
              "      <th>12</th>\n",
              "      <td>1041801.0</td>\n",
              "      <td>5.0</td>\n",
              "      <td>3.0</td>\n",
              "      <td>3.0</td>\n",
              "      <td>3.0</td>\n",
              "      <td>2.0</td>\n",
              "      <td>3.0</td>\n",
              "      <td>4.0</td>\n",
              "      <td>4.0</td>\n",
              "      <td>1.0</td>\n",
              "      <td>1.0</td>\n",
              "    </tr>\n",
              "    <tr>\n",
              "      <th>13</th>\n",
              "      <td>1043999.0</td>\n",
              "      <td>1.0</td>\n",
              "      <td>1.0</td>\n",
              "      <td>1.0</td>\n",
              "      <td>1.0</td>\n",
              "      <td>2.0</td>\n",
              "      <td>3.0</td>\n",
              "      <td>3.0</td>\n",
              "      <td>1.0</td>\n",
              "      <td>1.0</td>\n",
              "      <td>0.0</td>\n",
              "    </tr>\n",
              "    <tr>\n",
              "      <th>14</th>\n",
              "      <td>1044572.0</td>\n",
              "      <td>8.0</td>\n",
              "      <td>7.0</td>\n",
              "      <td>5.0</td>\n",
              "      <td>10.0</td>\n",
              "      <td>7.0</td>\n",
              "      <td>9.0</td>\n",
              "      <td>5.0</td>\n",
              "      <td>5.0</td>\n",
              "      <td>4.0</td>\n",
              "      <td>1.0</td>\n",
              "    </tr>\n",
              "  </tbody>\n",
              "</table>\n",
              "</div>"
            ],
            "text/plain": [
              "           0    1     2     3     4    5     6    7    8    9    10\n",
              "0   1000025.0  5.0   1.0   1.0   1.0  2.0   1.0  3.0  1.0  1.0  0.0\n",
              "1   1002945.0  5.0   4.0   4.0   5.0  7.0  10.0  3.0  2.0  1.0  0.0\n",
              "2   1015425.0  3.0   1.0   1.0   1.0  2.0   2.0  3.0  1.0  1.0  0.0\n",
              "3   1016277.0  6.0   8.0   8.0   1.0  3.0   4.0  3.0  7.0  1.0  0.0\n",
              "4   1017023.0  4.0   1.0   1.0   3.0  2.0   1.0  3.0  1.0  1.0  0.0\n",
              "5   1017122.0  8.0  10.0  10.0   8.0  7.0  10.0  9.0  7.0  1.0  1.0\n",
              "6   1018099.0  1.0   1.0   1.0   1.0  2.0  10.0  3.0  1.0  1.0  0.0\n",
              "7   1018561.0  2.0   1.0   2.0   1.0  2.0   1.0  3.0  1.0  1.0  0.0\n",
              "8   1033078.0  2.0   1.0   1.0   1.0  2.0   1.0  1.0  1.0  5.0  0.0\n",
              "9   1033078.0  4.0   2.0   1.0   1.0  2.0   1.0  2.0  1.0  1.0  0.0\n",
              "10  1035283.0  1.0   1.0   1.0   1.0  1.0   1.0  3.0  1.0  1.0  0.0\n",
              "11  1036172.0  2.0   1.0   1.0   1.0  2.0   1.0  2.0  1.0  1.0  0.0\n",
              "12  1041801.0  5.0   3.0   3.0   3.0  2.0   3.0  4.0  4.0  1.0  1.0\n",
              "13  1043999.0  1.0   1.0   1.0   1.0  2.0   3.0  3.0  1.0  1.0  0.0\n",
              "14  1044572.0  8.0   7.0   5.0  10.0  7.0   9.0  5.0  5.0  4.0  1.0"
            ]
          },
          "metadata": {
            "tags": []
          },
          "execution_count": 120
        }
      ]
    },
    {
      "cell_type": "code",
      "metadata": {
        "id": "pi4cby_Bo7Xg",
        "colab_type": "code",
        "colab": {
          "base_uri": "https://localhost:8080/",
          "height": 34
        },
        "outputId": "a746ea6e-dbbd-436e-e5f2-5346e8c13001"
      },
      "source": [
        "x = scaled_df.iloc[0:500,1:10].values.transpose()\n",
        "y = df.iloc[0:500,10:].values.transpose()\n",
        "\n",
        "xval = scaled_df.iloc[501:603,1:10].values.transpose()\n",
        "yval = df.iloc[501:603,10:].values.transpose()\n",
        "\n",
        "print(df.shape, x.shape, y.shape, xval.shape, yval.shape)\n",
        "\n",
        "nn = dlnet(x,y)\n",
        "\n",
        "nn.lr = 0.01\n",
        "nn.dims = [9, 15, 1]"
      ],
      "execution_count": 121,
      "outputs": [
        {
          "output_type": "stream",
          "text": [
            "(683, 11) (9, 500) (1, 500) (9, 102) (1, 102)\n"
          ],
          "name": "stdout"
        }
      ]
    },
    {
      "cell_type": "code",
      "metadata": {
        "id": "FTLGqZQwqBP-",
        "colab_type": "code",
        "colab": {
          "base_uri": "https://localhost:8080/",
          "height": 1000
        },
        "outputId": "fcbe6361-250b-4137-b1e4-bc3b9384a7ec"
      },
      "source": [
        "nn.gd(x, y, iter = 67000)"
      ],
      "execution_count": 122,
      "outputs": [
        {
          "output_type": "stream",
          "text": [
            "Cost after iteration 0: 0.673967\n",
            "Cost after iteration 500: 0.388928\n",
            "Cost after iteration 1000: 0.231340\n",
            "Cost after iteration 1500: 0.171447\n",
            "Cost after iteration 2000: 0.146433\n",
            "Cost after iteration 2500: 0.133993\n",
            "Cost after iteration 3000: 0.126808\n",
            "Cost after iteration 3500: 0.122107\n",
            "Cost after iteration 4000: 0.118650\n",
            "Cost after iteration 4500: 0.116027\n",
            "Cost after iteration 5000: 0.113934\n",
            "Cost after iteration 5500: 0.112221\n",
            "Cost after iteration 6000: 0.110783\n",
            "Cost after iteration 6500: 0.109546\n",
            "Cost after iteration 7000: 0.108474\n",
            "Cost after iteration 7500: 0.107537\n",
            "Cost after iteration 8000: 0.106710\n",
            "Cost after iteration 8500: 0.105977\n",
            "Cost after iteration 9000: 0.105317\n",
            "Cost after iteration 9500: 0.104718\n",
            "Cost after iteration 10000: 0.104174\n",
            "Cost after iteration 10500: 0.103674\n",
            "Cost after iteration 11000: 0.103216\n",
            "Cost after iteration 11500: 0.102785\n",
            "Cost after iteration 12000: 0.102377\n",
            "Cost after iteration 12500: 0.101980\n",
            "Cost after iteration 13000: 0.101604\n",
            "Cost after iteration 13500: 0.101251\n",
            "Cost after iteration 14000: 0.100912\n",
            "Cost after iteration 14500: 0.100592\n",
            "Cost after iteration 15000: 0.100303\n",
            "Cost after iteration 15500: 0.100032\n",
            "Cost after iteration 16000: 0.099770\n",
            "Cost after iteration 16500: 0.099515\n",
            "Cost after iteration 17000: 0.099274\n",
            "Cost after iteration 17500: 0.099050\n",
            "Cost after iteration 18000: 0.098826\n",
            "Cost after iteration 18500: 0.098606\n",
            "Cost after iteration 19000: 0.098401\n",
            "Cost after iteration 19500: 0.098171\n",
            "Cost after iteration 20000: 0.097931\n",
            "Cost after iteration 20500: 0.097724\n",
            "Cost after iteration 21000: 0.097529\n",
            "Cost after iteration 21500: 0.097344\n",
            "Cost after iteration 22000: 0.097167\n",
            "Cost after iteration 22500: 0.096995\n",
            "Cost after iteration 23000: 0.096829\n",
            "Cost after iteration 23500: 0.096667\n",
            "Cost after iteration 24000: 0.096515\n",
            "Cost after iteration 24500: 0.096369\n",
            "Cost after iteration 25000: 0.096228\n",
            "Cost after iteration 25500: 0.096092\n",
            "Cost after iteration 26000: 0.095963\n",
            "Cost after iteration 26500: 0.095837\n",
            "Cost after iteration 27000: 0.095714\n",
            "Cost after iteration 27500: 0.095595\n",
            "Cost after iteration 28000: 0.095480\n",
            "Cost after iteration 28500: 0.095369\n",
            "Cost after iteration 29000: 0.095262\n",
            "Cost after iteration 29500: 0.095155\n",
            "Cost after iteration 30000: 0.095051\n",
            "Cost after iteration 30500: 0.094948\n",
            "Cost after iteration 31000: 0.094848\n",
            "Cost after iteration 31500: 0.094744\n",
            "Cost after iteration 32000: 0.094636\n",
            "Cost after iteration 32500: 0.094530\n",
            "Cost after iteration 33000: 0.094426\n",
            "Cost after iteration 33500: 0.094323\n",
            "Cost after iteration 34000: 0.094221\n",
            "Cost after iteration 34500: 0.094121\n",
            "Cost after iteration 35000: 0.094015\n",
            "Cost after iteration 35500: 0.093909\n",
            "Cost after iteration 36000: 0.093804\n",
            "Cost after iteration 36500: 0.093700\n",
            "Cost after iteration 37000: 0.093593\n",
            "Cost after iteration 37500: 0.093487\n",
            "Cost after iteration 38000: 0.093380\n",
            "Cost after iteration 38500: 0.093277\n",
            "Cost after iteration 39000: 0.093178\n",
            "Cost after iteration 39500: 0.093084\n",
            "Cost after iteration 40000: 0.092989\n",
            "Cost after iteration 40500: 0.092894\n",
            "Cost after iteration 41000: 0.092800\n",
            "Cost after iteration 41500: 0.092705\n",
            "Cost after iteration 42000: 0.092611\n",
            "Cost after iteration 42500: 0.092517\n",
            "Cost after iteration 43000: 0.092423\n",
            "Cost after iteration 43500: 0.092329\n",
            "Cost after iteration 44000: 0.092235\n",
            "Cost after iteration 44500: 0.092142\n",
            "Cost after iteration 45000: 0.092047\n",
            "Cost after iteration 45500: 0.091953\n",
            "Cost after iteration 46000: 0.091860\n",
            "Cost after iteration 46500: 0.091766\n",
            "Cost after iteration 47000: 0.091672\n",
            "Cost after iteration 47500: 0.091576\n",
            "Cost after iteration 48000: 0.091479\n",
            "Cost after iteration 48500: 0.091380\n",
            "Cost after iteration 49000: 0.091280\n",
            "Cost after iteration 49500: 0.091181\n",
            "Cost after iteration 50000: 0.091085\n",
            "Cost after iteration 50500: 0.090988\n",
            "Cost after iteration 51000: 0.090862\n",
            "Cost after iteration 51500: 0.090730\n",
            "Cost after iteration 52000: 0.090598\n",
            "Cost after iteration 52500: 0.090472\n",
            "Cost after iteration 53000: 0.090345\n",
            "Cost after iteration 53500: 0.090219\n",
            "Cost after iteration 54000: 0.090091\n",
            "Cost after iteration 54500: 0.089963\n",
            "Cost after iteration 55000: 0.089835\n",
            "Cost after iteration 55500: 0.089706\n",
            "Cost after iteration 56000: 0.089574\n",
            "Cost after iteration 56500: 0.089436\n",
            "Cost after iteration 57000: 0.089298\n",
            "Cost after iteration 57500: 0.089159\n",
            "Cost after iteration 58000: 0.089019\n",
            "Cost after iteration 58500: 0.088878\n",
            "Cost after iteration 59000: 0.088736\n",
            "Cost after iteration 59500: 0.088575\n",
            "Cost after iteration 60000: 0.088406\n",
            "Cost after iteration 60500: 0.088231\n",
            "Cost after iteration 61000: 0.088054\n",
            "Cost after iteration 61500: 0.087876\n",
            "Cost after iteration 62000: 0.087723\n",
            "Cost after iteration 62500: 0.087575\n",
            "Cost after iteration 63000: 0.087427\n",
            "Cost after iteration 63500: 0.087277\n",
            "Cost after iteration 64000: 0.087128\n",
            "Cost after iteration 64500: 0.086977\n",
            "Cost after iteration 65000: 0.086827\n",
            "Cost after iteration 65500: 0.086639\n",
            "Cost after iteration 66000: 0.086469\n",
            "Cost after iteration 66500: 0.086303\n"
          ],
          "name": "stdout"
        },
        {
          "output_type": "display_data",
          "data": {
            "image/png": "[encoded data removed]",
            "text/plain": [
              "<Figure size 432x288 with 1 Axes>"
            ]
          },
          "metadata": {
            "tags": [],
            "needs_background": "light"
          }
        }
      ]
    },
    {
      "cell_type": "code",
      "metadata": {
        "id": "4zG2ZwE67V_O",
        "colab_type": "code",
        "colab": {
          "base_uri": "https://localhost:8080/",
          "height": 51
        },
        "outputId": "a7704c26-cbb3-4394-dacb-057bdf75f1dc"
      },
      "source": [
        "pred_train = nn.pred(x, y)\n",
        "pred_test = nn.pred(xval, yval)"
      ],
      "execution_count": 124,
      "outputs": [
        {
          "output_type": "stream",
          "text": [
            "Acc: 0.9640000000000003\n",
            "Acc: 0.9999999999999996\n"
          ],
          "name": "stdout"
        }
      ]
    },
    {
      "cell_type": "code",
      "metadata": {
        "id": "PwLE5JsyIvuJ",
        "colab_type": "code",
        "colab": {
          "base_uri": "https://localhost:8080/",
          "height": 136
        },
        "outputId": "cb8c13ca-3666-4c71-f50b-a26845124c04"
      },
      "source": [
        "nn.X,nn.Y=xval, yval \n",
        "yvalh, loss = nn.forward()\n",
        "print(\"\\ny\",np.around(yval[:,0:50,], decimals=0).astype(np.int))       \n",
        "print(\"\\nyh\",np.around(yvalh[:,0:50,], decimals=0).astype(np.int),\"\\n\")"
      ],
      "execution_count": 132,
      "outputs": [
        {
          "output_type": "stream",
          "text": [
            "\n",
            "y [[0 0 0 1 0 0 1 1 0 0 0 0 0 0 1 0 0 0 0 0 0 0 0 0 0 0 0 0 0 0 1 0 0 1 0 0\n",
            "  0 0 0 0 0 0 0 0 0 0 0 0 0 1]]\n",
            "\n",
            "yh [[0 0 0 1 0 0 1 1 0 0 0 0 0 0 1 0 0 0 0 0 0 0 0 0 0 0 0 0 0 0 1 0 0 1 0 0\n",
            "  0 0 0 0 0 0 0 0 0 0 0 0 0 1]] \n",
            "\n"
          ],
          "name": "stdout"
        }
      ]
    },
    {
      "cell_type": "code",
      "metadata": {
        "id": "6XOWUnT1JBkJ",
        "colab_type": "code",
        "colab": {}
      },
      "source": [
        "def plotCf"
      ],
      "execution_count": 0,
      "outputs": []
    },
    {
      "cell_type": "code",
      "metadata": {
        "id": "66BMYk468Z6r",
        "colab_type": "code",
        "colab": {
          "base_uri": "https://localhost:8080/",
          "height": 607
        },
        "outputId": "668443c5-27f5-4858-ab71-93a75c78ec11"
      },
      "source": [
        "nn.threshold = 0.5\n",
        "\n",
        "nn.X, nn.Y = x, y\n",
        "target = np.around(np.squeeze(y), decimals=0).astype(np.int)\n",
        "predicted = np.around(np.squeeze(nn.pred(x,y)), decimals=0).astype(np.int)\n",
        "plotCf(target, predicted, 'Cf Training Set')\n",
        "\n",
        "nn.X, nn.Y = xval, yval\n",
        "target = np.around(np.squeeze(yval), decimals=0).astype(np.int)\n",
        "predicted = np.around(np.squeeze(nn.pred(xval,yval)), decimals=0).astype(np.int)\n",
        "plotCf(target, predicted, 'Cf Validation Set')"
      ],
      "execution_count": 126,
      "outputs": [
        {
          "output_type": "stream",
          "text": [
            "Acc: 0.9640000000000003\n"
          ],
          "name": "stdout"
        },
        {
          "output_type": "display_data",
          "data": {
            "image/png": "[encoded data removed]",
            "text/plain": [
              "<Figure size 432x288 with 2 Axes>"
            ]
          },
          "metadata": {
            "tags": [],
            "needs_background": "light"
          }
        },
        {
          "output_type": "stream",
          "text": [
            "Acc: 0.9999999999999996\n"
          ],
          "name": "stdout"
        },
        {
          "output_type": "display_data",
          "data": {
            "image/png": "[encoded data removed]",
            "text/plain": [
              "<Figure size 432x288 with 2 Axes>"
            ]
          },
          "metadata": {
            "tags": [],
            "needs_background": "light"
          }
        }
      ]
    },
    {
      "cell_type": "code",
      "metadata": {
        "id": "IQmFl8uy9c-6",
        "colab_type": "code",
        "colab": {
          "base_uri": "https://localhost:8080/",
          "height": 607
        },
        "outputId": "6447447d-5e79-4f07-ceb5-b5f47b422817"
      },
      "source": [
        "nn.threshold = 0.7\n",
        "\n",
        "nn.X,nn.Y=x, y \n",
        "target=np.around(np.squeeze(y), decimals=0).astype(np.int)\n",
        "predicted=np.around(np.squeeze(nn.pred(x,y)), decimals=0).astype(np.int)\n",
        "plotCf(target,predicted,'Cf Training Set')\n",
        "\n",
        "nn.X,nn.Y=xval, yval \n",
        "target=np.around(np.squeeze(yval), decimals=0).astype(np.int)\n",
        "predicted=np.around(np.squeeze(nn.pred(xval,yval)), decimals=0).astype(np.int)\n",
        "plotCf(target,predicted,'Cf Validation Set')"
      ],
      "execution_count": 127,
      "outputs": [
        {
          "output_type": "stream",
          "text": [
            "Acc: 0.9620000000000003\n"
          ],
          "name": "stdout"
        },
        {
          "output_type": "display_data",
          "data": {
            "image/png": "[encoded data removed]",
            "text/plain": [
              "<Figure size 432x288 with 2 Axes>"
            ]
          },
          "metadata": {
            "tags": [],
            "needs_background": "light"
          }
        },
        {
          "output_type": "stream",
          "text": [
            "Acc: 0.9999999999999996\n"
          ],
          "name": "stdout"
        },
        {
          "output_type": "display_data",
          "data": {
            "image/png": "[encoded data removed]",
            "text/plain": [
              "<Figure size 432x288 with 2 Axes>"
            ]
          },
          "metadata": {
            "tags": [],
            "needs_background": "light"
          }
        }
      ]
    },
    {
      "cell_type": "code",
      "metadata": {
        "id": "Hoy74ObL9qpy",
        "colab_type": "code",
        "colab": {
          "base_uri": "https://localhost:8080/",
          "height": 607
        },
        "outputId": "e8b062a0-f982-4c84-9636-0d43eafa37f1"
      },
      "source": [
        "nn.threshold=0.9\n",
        "\n",
        "nn.X,nn.Y=x, y \n",
        "target=np.around(np.squeeze(y), decimals=0).astype(np.int)\n",
        "predicted=np.around(np.squeeze(nn.pred(x,y)), decimals=0).astype(np.int)\n",
        "plotCf(target,predicted,'Cf Training Set')\n",
        "\n",
        "nn.X,nn.Y=xval, yval \n",
        "target=np.around(np.squeeze(yval), decimals=0).astype(np.int)\n",
        "predicted=np.around(np.squeeze(nn.pred(xval,yval)), decimals=0).astype(np.int)\n",
        "plotCf(target,predicted,'Cf Validation Set')"
      ],
      "execution_count": 128,
      "outputs": [
        {
          "output_type": "stream",
          "text": [
            "Acc: 0.9360000000000003\n"
          ],
          "name": "stdout"
        },
        {
          "output_type": "display_data",
          "data": {
            "image/png": "[encoded data removed]",
            "text/plain": [
              "<Figure size 432x288 with 2 Axes>"
            ]
          },
          "metadata": {
            "tags": [],
            "needs_background": "light"
          }
        },
        {
          "output_type": "stream",
          "text": [
            "Acc: 0.9901960784313721\n"
          ],
          "name": "stdout"
        },
        {
          "output_type": "display_data",
          "data": {
            "image/png": "[encoded data removed]",
            "text/plain": [
              "<Figure size 432x288 with 2 Axes>"
            ]
          },
          "metadata": {
            "tags": [],
            "needs_background": "light"
          }
        }
      ]
    },
    {
      "cell_type": "code",
      "metadata": {
        "id": "dxoLuznoabpe",
        "colab_type": "code",
        "colab": {}
      },
      "source": [
        ""
      ],
      "execution_count": 0,
      "outputs": []
    }
  ]
}